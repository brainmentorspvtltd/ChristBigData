{
 "cells": [
  {
   "cell_type": "code",
   "execution_count": 1,
   "id": "69a69b7a",
   "metadata": {},
   "outputs": [
    {
     "name": "stdout",
     "output_type": "stream",
     "text": [
      "Requirement already satisfied: pyspark in c:\\users\\asus\\anaconda3\\lib\\site-packages (3.2.1)\n",
      "Requirement already satisfied: py4j==0.10.9.3 in c:\\users\\asus\\anaconda3\\lib\\site-packages (from pyspark) (0.10.9.3)\n"
     ]
    }
   ],
   "source": [
    "!pip install pyspark"
   ]
  },
  {
   "cell_type": "code",
   "execution_count": 2,
   "id": "bb87caba",
   "metadata": {},
   "outputs": [],
   "source": [
    "import os, sys\n",
    "from pyspark.sql import SparkSession"
   ]
  },
  {
   "cell_type": "code",
   "execution_count": 3,
   "id": "78e28778",
   "metadata": {},
   "outputs": [],
   "source": [
    "os.environ['PYSPARK_PYTHON'] = sys.executable\n",
    "os.environ['PYSPARK_DRIVER_PYTHON'] = sys.executable"
   ]
  },
  {
   "cell_type": "code",
   "execution_count": 13,
   "id": "f7403c01",
   "metadata": {},
   "outputs": [],
   "source": [
    "data = [\n",
    "    (\"John\", \"CS\", 78),\n",
    "    (\"Sam\", \"EC\", 90),\n",
    "    (\"Max\", \"CS\", 65),\n",
    "    (\"Nick\", \"CS\", 45),\n",
    "    (\"Adam\", \"EC\", 91),\n",
    "    (\"Shawn\", \"ME\", 88),\n",
    "    (\"John\", \"ME\", 37),\n",
    "    (\"Steve\", \"CS\", 63),\n",
    "]"
   ]
  },
  {
   "cell_type": "code",
   "execution_count": 5,
   "id": "8d150d91",
   "metadata": {},
   "outputs": [],
   "source": [
    "spark = SparkSession.builder.master(\"local[1]\").appName(\"Example\").getOrCreate()"
   ]
  },
  {
   "cell_type": "code",
   "execution_count": 6,
   "id": "fa9da581",
   "metadata": {
    "scrolled": true
   },
   "outputs": [
    {
     "name": "stdout",
     "output_type": "stream",
     "text": [
      "<pyspark.sql.session.SparkSession object at 0x00000281645B5DF0>\n"
     ]
    }
   ],
   "source": [
    "print(spark)"
   ]
  },
  {
   "cell_type": "code",
   "execution_count": 14,
   "id": "b01e9882",
   "metadata": {},
   "outputs": [],
   "source": [
    "# creating RDD\n",
    "rdd = spark.sparkContext.parallelize(data)"
   ]
  },
  {
   "cell_type": "code",
   "execution_count": 15,
   "id": "ca50d491",
   "metadata": {},
   "outputs": [],
   "source": [
    "df = rdd.toDF()"
   ]
  },
  {
   "cell_type": "code",
   "execution_count": 16,
   "id": "10322cd0",
   "metadata": {},
   "outputs": [
    {
     "data": {
      "text/plain": [
       "DataFrame[_1: string, _2: string, _3: bigint]"
      ]
     },
     "execution_count": 16,
     "metadata": {},
     "output_type": "execute_result"
    }
   ],
   "source": [
    "df"
   ]
  },
  {
   "cell_type": "code",
   "execution_count": 17,
   "id": "72d0be0e",
   "metadata": {},
   "outputs": [
    {
     "name": "stdout",
     "output_type": "stream",
     "text": [
      "root\n",
      " |-- _1: string (nullable = true)\n",
      " |-- _2: string (nullable = true)\n",
      " |-- _3: long (nullable = true)\n",
      "\n"
     ]
    }
   ],
   "source": [
    "df.printSchema()"
   ]
  },
  {
   "cell_type": "code",
   "execution_count": 18,
   "id": "3a9b6791",
   "metadata": {},
   "outputs": [
    {
     "name": "stdout",
     "output_type": "stream",
     "text": [
      "+-----+---+---+\n",
      "|   _1| _2| _3|\n",
      "+-----+---+---+\n",
      "| John| CS| 78|\n",
      "|  Sam| EC| 90|\n",
      "|  Max| CS| 65|\n",
      "| Nick| CS| 45|\n",
      "| Adam| EC| 91|\n",
      "|Shawn| ME| 88|\n",
      "| John| ME| 37|\n",
      "|Steve| CS| 63|\n",
      "+-----+---+---+\n",
      "\n"
     ]
    }
   ],
   "source": [
    "df.show()"
   ]
  },
  {
   "cell_type": "code",
   "execution_count": 21,
   "id": "192b2c38",
   "metadata": {},
   "outputs": [],
   "source": [
    "columnName = ['Name', 'Branch', 'Marks']\n",
    "df_2 = rdd.toDF(columnName)"
   ]
  },
  {
   "cell_type": "code",
   "execution_count": 22,
   "id": "72037d61",
   "metadata": {},
   "outputs": [
    {
     "name": "stdout",
     "output_type": "stream",
     "text": [
      "root\n",
      " |-- Name: string (nullable = true)\n",
      " |-- Branch: string (nullable = true)\n",
      " |-- Marks: long (nullable = true)\n",
      "\n"
     ]
    }
   ],
   "source": [
    "df_2.printSchema()"
   ]
  },
  {
   "cell_type": "code",
   "execution_count": 23,
   "id": "f9ab1978",
   "metadata": {},
   "outputs": [
    {
     "name": "stdout",
     "output_type": "stream",
     "text": [
      "+-----+------+-----+\n",
      "| Name|Branch|Marks|\n",
      "+-----+------+-----+\n",
      "| John|    CS|   78|\n",
      "|  Sam|    EC|   90|\n",
      "|  Max|    CS|   65|\n",
      "| Nick|    CS|   45|\n",
      "| Adam|    EC|   91|\n",
      "|Shawn|    ME|   88|\n",
      "| John|    ME|   37|\n",
      "|Steve|    CS|   63|\n",
      "+-----+------+-----+\n",
      "\n"
     ]
    }
   ],
   "source": [
    "df_2.show()"
   ]
  },
  {
   "cell_type": "code",
   "execution_count": 24,
   "id": "d4049dcd",
   "metadata": {},
   "outputs": [],
   "source": [
    "# another way to create dataframe\n",
    "df_3 = spark.createDataFrame(rdd).toDF(*columnName)"
   ]
  },
  {
   "cell_type": "code",
   "execution_count": 25,
   "id": "61f8109c",
   "metadata": {},
   "outputs": [
    {
     "name": "stdout",
     "output_type": "stream",
     "text": [
      "+-----+------+-----+\n",
      "| Name|Branch|Marks|\n",
      "+-----+------+-----+\n",
      "| John|    CS|   78|\n",
      "|  Sam|    EC|   90|\n",
      "|  Max|    CS|   65|\n",
      "| Nick|    CS|   45|\n",
      "| Adam|    EC|   91|\n",
      "|Shawn|    ME|   88|\n",
      "| John|    ME|   37|\n",
      "|Steve|    CS|   63|\n",
      "+-----+------+-----+\n",
      "\n"
     ]
    }
   ],
   "source": [
    "df_3.show()"
   ]
  },
  {
   "cell_type": "code",
   "execution_count": 26,
   "id": "b37bc538",
   "metadata": {},
   "outputs": [],
   "source": [
    "# create schema for data frame"
   ]
  },
  {
   "cell_type": "code",
   "execution_count": 27,
   "id": "68ac3ad9",
   "metadata": {},
   "outputs": [],
   "source": [
    "from pyspark.sql.types import StructType, StringType, IntegerType, StructField"
   ]
  },
  {
   "cell_type": "code",
   "execution_count": 31,
   "id": "4c75b434",
   "metadata": {},
   "outputs": [],
   "source": [
    "schema = StructType([\n",
    "    StructField(\"StudentName\", StringType()),\n",
    "    StructField(\"StudentBranch\", StringType()),\n",
    "    StructField(\"StudentMarks\", StringType())\n",
    "])"
   ]
  },
  {
   "cell_type": "code",
   "execution_count": 32,
   "id": "08c71955",
   "metadata": {},
   "outputs": [],
   "source": [
    "df_4 = spark.createDataFrame(data=data, schema=schema)"
   ]
  },
  {
   "cell_type": "code",
   "execution_count": 33,
   "id": "72f55b48",
   "metadata": {},
   "outputs": [
    {
     "name": "stdout",
     "output_type": "stream",
     "text": [
      "+-----------+-------------+------------+\n",
      "|StudentName|StudentBranch|StudentMarks|\n",
      "+-----------+-------------+------------+\n",
      "|       John|           CS|          78|\n",
      "|        Sam|           EC|          90|\n",
      "|        Max|           CS|          65|\n",
      "|       Nick|           CS|          45|\n",
      "|       Adam|           EC|          91|\n",
      "|      Shawn|           ME|          88|\n",
      "|       John|           ME|          37|\n",
      "|      Steve|           CS|          63|\n",
      "+-----------+-------------+------------+\n",
      "\n"
     ]
    }
   ],
   "source": [
    "df_4.show()"
   ]
  },
  {
   "cell_type": "code",
   "execution_count": 34,
   "id": "57e9cf43",
   "metadata": {},
   "outputs": [],
   "source": [
    "summer_df = spark.read.csv(\"summer.csv\", header=True)"
   ]
  },
  {
   "cell_type": "code",
   "execution_count": 35,
   "id": "6191c7d4",
   "metadata": {},
   "outputs": [
    {
     "name": "stdout",
     "output_type": "stream",
     "text": [
      "+----+------+--------+----------+-----------------+-------+------+--------------------+------+\n",
      "|Year|  City|   Sport|Discipline|          Athlete|Country|Gender|               Event| Medal|\n",
      "+----+------+--------+----------+-----------------+-------+------+--------------------+------+\n",
      "|1896|Athens|Aquatics|  Swimming|     HAJOS Alfred|    HUN|   Men|      100M Freestyle|  Gold|\n",
      "|1896|Athens|Aquatics|  Swimming|  HERSCHMANN Otto|    AUT|   Men|      100M Freestyle|Silver|\n",
      "|1896|Athens|Aquatics|  Swimming| DRIVAS Dimitrios|    GRE|   Men|100M Freestyle Fo...|Bronze|\n",
      "|1896|Athens|Aquatics|  Swimming|MALOKINIS Ioannis|    GRE|   Men|100M Freestyle Fo...|  Gold|\n",
      "|1896|Athens|Aquatics|  Swimming|CHASAPIS Spiridon|    GRE|   Men|100M Freestyle Fo...|Silver|\n",
      "+----+------+--------+----------+-----------------+-------+------+--------------------+------+\n",
      "only showing top 5 rows\n",
      "\n"
     ]
    }
   ],
   "source": [
    "summer_df.show(5)"
   ]
  },
  {
   "cell_type": "code",
   "execution_count": 36,
   "id": "b37a490b",
   "metadata": {},
   "outputs": [
    {
     "data": {
      "text/plain": [
       "31165"
      ]
     },
     "execution_count": 36,
     "metadata": {},
     "output_type": "execute_result"
    }
   ],
   "source": [
    "# number of rows in data\n",
    "summer_df.count()"
   ]
  },
  {
   "cell_type": "code",
   "execution_count": 37,
   "id": "2d980d2b",
   "metadata": {},
   "outputs": [
    {
     "data": {
      "text/plain": [
       "9"
      ]
     },
     "execution_count": 37,
     "metadata": {},
     "output_type": "execute_result"
    }
   ],
   "source": [
    "# number of cols in data\n",
    "len(summer_df.dtypes)"
   ]
  },
  {
   "cell_type": "code",
   "execution_count": 39,
   "id": "f9ada4f3",
   "metadata": {},
   "outputs": [
    {
     "data": {
      "text/html": [
       "<div>\n",
       "<style scoped>\n",
       "    .dataframe tbody tr th:only-of-type {\n",
       "        vertical-align: middle;\n",
       "    }\n",
       "\n",
       "    .dataframe tbody tr th {\n",
       "        vertical-align: top;\n",
       "    }\n",
       "\n",
       "    .dataframe thead th {\n",
       "        text-align: right;\n",
       "    }\n",
       "</style>\n",
       "<table border=\"1\" class=\"dataframe\">\n",
       "  <thead>\n",
       "    <tr style=\"text-align: right;\">\n",
       "      <th></th>\n",
       "      <th>Year</th>\n",
       "      <th>City</th>\n",
       "      <th>Sport</th>\n",
       "      <th>Discipline</th>\n",
       "      <th>Athlete</th>\n",
       "      <th>Country</th>\n",
       "      <th>Gender</th>\n",
       "      <th>Event</th>\n",
       "      <th>Medal</th>\n",
       "    </tr>\n",
       "  </thead>\n",
       "  <tbody>\n",
       "    <tr>\n",
       "      <th>0</th>\n",
       "      <td>1896</td>\n",
       "      <td>Athens</td>\n",
       "      <td>Aquatics</td>\n",
       "      <td>Swimming</td>\n",
       "      <td>HAJOS Alfred</td>\n",
       "      <td>HUN</td>\n",
       "      <td>Men</td>\n",
       "      <td>100M Freestyle</td>\n",
       "      <td>Gold</td>\n",
       "    </tr>\n",
       "    <tr>\n",
       "      <th>1</th>\n",
       "      <td>1896</td>\n",
       "      <td>Athens</td>\n",
       "      <td>Aquatics</td>\n",
       "      <td>Swimming</td>\n",
       "      <td>HERSCHMANN Otto</td>\n",
       "      <td>AUT</td>\n",
       "      <td>Men</td>\n",
       "      <td>100M Freestyle</td>\n",
       "      <td>Silver</td>\n",
       "    </tr>\n",
       "    <tr>\n",
       "      <th>2</th>\n",
       "      <td>1896</td>\n",
       "      <td>Athens</td>\n",
       "      <td>Aquatics</td>\n",
       "      <td>Swimming</td>\n",
       "      <td>DRIVAS Dimitrios</td>\n",
       "      <td>GRE</td>\n",
       "      <td>Men</td>\n",
       "      <td>100M Freestyle For Sailors</td>\n",
       "      <td>Bronze</td>\n",
       "    </tr>\n",
       "    <tr>\n",
       "      <th>3</th>\n",
       "      <td>1896</td>\n",
       "      <td>Athens</td>\n",
       "      <td>Aquatics</td>\n",
       "      <td>Swimming</td>\n",
       "      <td>MALOKINIS Ioannis</td>\n",
       "      <td>GRE</td>\n",
       "      <td>Men</td>\n",
       "      <td>100M Freestyle For Sailors</td>\n",
       "      <td>Gold</td>\n",
       "    </tr>\n",
       "    <tr>\n",
       "      <th>4</th>\n",
       "      <td>1896</td>\n",
       "      <td>Athens</td>\n",
       "      <td>Aquatics</td>\n",
       "      <td>Swimming</td>\n",
       "      <td>CHASAPIS Spiridon</td>\n",
       "      <td>GRE</td>\n",
       "      <td>Men</td>\n",
       "      <td>100M Freestyle For Sailors</td>\n",
       "      <td>Silver</td>\n",
       "    </tr>\n",
       "  </tbody>\n",
       "</table>\n",
       "</div>"
      ],
      "text/plain": [
       "   Year    City     Sport Discipline            Athlete Country Gender  \\\n",
       "0  1896  Athens  Aquatics   Swimming       HAJOS Alfred     HUN    Men   \n",
       "1  1896  Athens  Aquatics   Swimming    HERSCHMANN Otto     AUT    Men   \n",
       "2  1896  Athens  Aquatics   Swimming   DRIVAS Dimitrios     GRE    Men   \n",
       "3  1896  Athens  Aquatics   Swimming  MALOKINIS Ioannis     GRE    Men   \n",
       "4  1896  Athens  Aquatics   Swimming  CHASAPIS Spiridon     GRE    Men   \n",
       "\n",
       "                        Event   Medal  \n",
       "0              100M Freestyle    Gold  \n",
       "1              100M Freestyle  Silver  \n",
       "2  100M Freestyle For Sailors  Bronze  \n",
       "3  100M Freestyle For Sailors    Gold  \n",
       "4  100M Freestyle For Sailors  Silver  "
      ]
     },
     "execution_count": 39,
     "metadata": {},
     "output_type": "execute_result"
    }
   ],
   "source": [
    "# convert spark rdd to pandas data frame\n",
    "summer_df.limit(5).toPandas()"
   ]
  },
  {
   "cell_type": "code",
   "execution_count": 40,
   "id": "0a243cc6",
   "metadata": {},
   "outputs": [
    {
     "name": "stdout",
     "output_type": "stream",
     "text": [
      "+----+-----------------+-------+\n",
      "|Year|          Athlete|Country|\n",
      "+----+-----------------+-------+\n",
      "|1896|     HAJOS Alfred|    HUN|\n",
      "|1896|  HERSCHMANN Otto|    AUT|\n",
      "|1896| DRIVAS Dimitrios|    GRE|\n",
      "|1896|MALOKINIS Ioannis|    GRE|\n",
      "|1896|CHASAPIS Spiridon|    GRE|\n",
      "+----+-----------------+-------+\n",
      "only showing top 5 rows\n",
      "\n"
     ]
    }
   ],
   "source": [
    "summer_df.select(\"Year\", \"Athlete\", \"Country\").show(5)"
   ]
  },
  {
   "cell_type": "code",
   "execution_count": 41,
   "id": "1af4a67d",
   "metadata": {},
   "outputs": [
    {
     "name": "stdout",
     "output_type": "stream",
     "text": [
      "+----------+-----------------+-------+\n",
      "|Discipline|          Athlete|Country|\n",
      "+----------+-----------------+-------+\n",
      "|  Swimming|     HAJOS Alfred|    HUN|\n",
      "|  Swimming|  HERSCHMANN Otto|    AUT|\n",
      "|  Swimming| DRIVAS Dimitrios|    GRE|\n",
      "|  Swimming|MALOKINIS Ioannis|    GRE|\n",
      "|  Swimming|CHASAPIS Spiridon|    GRE|\n",
      "+----------+-----------------+-------+\n",
      "only showing top 5 rows\n",
      "\n"
     ]
    }
   ],
   "source": [
    "# will return 3,4 and 5 column\n",
    "summer_df.select(summer_df.columns[3:6]).show(5)"
   ]
  },
  {
   "cell_type": "code",
   "execution_count": 42,
   "id": "d4229cc5",
   "metadata": {},
   "outputs": [],
   "source": [
    "# how to alter columns"
   ]
  },
  {
   "cell_type": "code",
   "execution_count": 43,
   "id": "6b591a74",
   "metadata": {},
   "outputs": [],
   "source": [
    "from pyspark.sql.functions import col, lit"
   ]
  },
  {
   "cell_type": "code",
   "execution_count": 45,
   "id": "789f80d1",
   "metadata": {},
   "outputs": [
    {
     "name": "stdout",
     "output_type": "stream",
     "text": [
      "+----+------+-----+\n",
      "|Name|Branch|Marks|\n",
      "+----+------+-----+\n",
      "|John|    CS|   78|\n",
      "| Sam|    EC|   90|\n",
      "| Max|    CS|   65|\n",
      "+----+------+-----+\n",
      "only showing top 3 rows\n",
      "\n"
     ]
    }
   ],
   "source": [
    "df_3.show(3)"
   ]
  },
  {
   "cell_type": "code",
   "execution_count": 50,
   "id": "0e9fbd60",
   "metadata": {},
   "outputs": [
    {
     "name": "stdout",
     "output_type": "stream",
     "text": [
      "+-----+------+-----+----------+\n",
      "| Name|Branch|Marks|Percentage|\n",
      "+-----+------+-----+----------+\n",
      "| John|    CS|   78|      0.78|\n",
      "|  Sam|    EC|   90|       0.9|\n",
      "|  Max|    CS|   65|      0.65|\n",
      "| Nick|    CS|   45|      0.45|\n",
      "| Adam|    EC|   91|      0.91|\n",
      "|Shawn|    ME|   88|      0.88|\n",
      "| John|    ME|   37|      0.37|\n",
      "|Steve|    CS|   63|      0.63|\n",
      "+-----+------+-----+----------+\n",
      "\n"
     ]
    }
   ],
   "source": [
    "df_3.withColumn(\"Percentage\", col(\"Marks\")/100).show()"
   ]
  },
  {
   "cell_type": "code",
   "execution_count": 51,
   "id": "6c5b5207",
   "metadata": {},
   "outputs": [
    {
     "name": "stdout",
     "output_type": "stream",
     "text": [
      "+----+------+-----+-----------------+\n",
      "|Name|Branch|Marks|          College|\n",
      "+----+------+-----+-----------------+\n",
      "|John|    CS|   78|Christ University|\n",
      "| Sam|    EC|   90|Christ University|\n",
      "| Max|    CS|   65|Christ University|\n",
      "|Nick|    CS|   45|Christ University|\n",
      "|Adam|    EC|   91|Christ University|\n",
      "+----+------+-----+-----------------+\n",
      "only showing top 5 rows\n",
      "\n"
     ]
    }
   ],
   "source": [
    "df_3.withColumn(\"College\", lit(\"Christ University\")).show(5)"
   ]
  },
  {
   "cell_type": "code",
   "execution_count": 52,
   "id": "0e0430cd",
   "metadata": {},
   "outputs": [
    {
     "name": "stdout",
     "output_type": "stream",
     "text": [
      "+-----+------+-----+\n",
      "| Name|Branch|Marks|\n",
      "+-----+------+-----+\n",
      "| John|    CS|   78|\n",
      "|  Max|    CS|   65|\n",
      "| Nick|    CS|   45|\n",
      "|Steve|    CS|   63|\n",
      "+-----+------+-----+\n",
      "\n"
     ]
    }
   ],
   "source": [
    "# filter data\n",
    "df_3.filter(col(\"Branch\") == \"CS\").show()"
   ]
  },
  {
   "cell_type": "code",
   "execution_count": 55,
   "id": "ce801313",
   "metadata": {},
   "outputs": [
    {
     "name": "stdout",
     "output_type": "stream",
     "text": [
      "+-----+------+-----+\n",
      "| Name|Branch|Marks|\n",
      "+-----+------+-----+\n",
      "|  Sam|    EC|   90|\n",
      "| Adam|    EC|   91|\n",
      "|Shawn|    ME|   88|\n",
      "| John|    ME|   37|\n",
      "+-----+------+-----+\n",
      "\n"
     ]
    }
   ],
   "source": [
    "# Not Equals to CS\n",
    "df_3.filter(\"Branch <> 'CS'\").show()"
   ]
  },
  {
   "cell_type": "code",
   "execution_count": 57,
   "id": "44de184c",
   "metadata": {},
   "outputs": [
    {
     "name": "stdout",
     "output_type": "stream",
     "text": [
      "+-----+------+-----+\n",
      "| Name|Branch|Marks|\n",
      "+-----+------+-----+\n",
      "|  Sam|    EC|   90|\n",
      "| Adam|    EC|   91|\n",
      "|Shawn|    ME|   88|\n",
      "| John|    ME|   37|\n",
      "+-----+------+-----+\n",
      "\n"
     ]
    }
   ],
   "source": [
    "df_3.createOrReplaceTempView(\"DataSet\")\n",
    "spark.sql(\"select Name, Branch, Marks from DataSet where Branch != 'CS'\").show()"
   ]
  },
  {
   "cell_type": "code",
   "execution_count": 58,
   "id": "b346f9eb",
   "metadata": {},
   "outputs": [
    {
     "name": "stdout",
     "output_type": "stream",
     "text": [
      "+------+----------+\n",
      "|Branch|sum(Marks)|\n",
      "+------+----------+\n",
      "|    EC|       181|\n",
      "|    ME|       125|\n",
      "|    CS|       251|\n",
      "+------+----------+\n",
      "\n"
     ]
    }
   ],
   "source": [
    "df_3.groupBy(\"Branch\").sum(\"Marks\").show()"
   ]
  },
  {
   "cell_type": "code",
   "execution_count": null,
   "id": "aa18c094",
   "metadata": {},
   "outputs": [],
   "source": []
  }
 ],
 "metadata": {
  "kernelspec": {
   "display_name": "Python 3 (ipykernel)",
   "language": "python",
   "name": "python3"
  },
  "language_info": {
   "codemirror_mode": {
    "name": "ipython",
    "version": 3
   },
   "file_extension": ".py",
   "mimetype": "text/x-python",
   "name": "python",
   "nbconvert_exporter": "python",
   "pygments_lexer": "ipython3",
   "version": "3.9.7"
  }
 },
 "nbformat": 4,
 "nbformat_minor": 5
}
